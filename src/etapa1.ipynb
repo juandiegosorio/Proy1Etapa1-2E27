{
 "cells": [
  {
   "cell_type": "markdown",
   "metadata": {},
   "source": [
    "# *Proyecto 1*\n",
    "## *Etapa 1*\n",
    "\n",
    "# Integrantes\n",
    "Juan Diego Osorio - 202220148\n",
    "\n",
    "Daniel Esteban Gomez - codigo de Daniel\n",
    "\n",
    "Colocar nomrbe Integrante 3 - codigo integrante 3"
   ]
  },
  {
   "cell_type": "markdown",
   "metadata": {},
   "source": [
    "### Instalacion de Librerias"
   ]
  },
  {
   "cell_type": "code",
   "execution_count": 1,
   "metadata": {},
   "outputs": [
    {
     "name": "stderr",
     "output_type": "stream",
     "text": [
      "[nltk_data] Downloading package punkt to\n",
      "[nltk_data]     C:\\Users\\osori_jiva757\\AppData\\Roaming\\nltk_data...\n",
      "[nltk_data]   Package punkt is already up-to-date!\n",
      "[nltk_data] Downloading package stopwords to\n",
      "[nltk_data]     C:\\Users\\osori_jiva757\\AppData\\Roaming\\nltk_data...\n",
      "[nltk_data]   Package stopwords is already up-to-date!\n",
      "[nltk_data] Downloading package wordnet to\n",
      "[nltk_data]     C:\\Users\\osori_jiva757\\AppData\\Roaming\\nltk_data...\n",
      "[nltk_data]   Package wordnet is already up-to-date!\n"
     ]
    }
   ],
   "source": [
    "# librería Natural Language Toolkit, usada para trabajar con textos\n",
    "import nltk\n",
    "# Punkt permite separar un texto en frases.\n",
    "nltk.download('punkt')\n",
    "# Descarga todas las palabras vacias, es decir, aquellas que no aportan nada al significado del texto\n",
    "# ¿Cuales son esas palabras vacías?\n",
    "\n",
    "nltk.download('stopwords')\n",
    "# Descarga de paquete WordNetLemmatizer, este es usado para encontrar el lema de cada palabra\n",
    "# ¿Qué es el lema de una palabra? ¿Qué tan dificil puede ser obtenerlo, piensa en el caso en que tuvieras que escribir la función que realiza esta tarea?\n",
    "nltk.download('wordnet')\n",
    "\n",
    "# Instalación de librerias\n",
    "import pandas as pd\n",
    "import numpy as np\n",
    "import sys\n",
    "\n",
    "import re, string, unicodedata\n",
    "import contractions\n",
    "import inflect\n",
    "from nltk import word_tokenize, sent_tokenize\n",
    "from nltk.corpus import stopwords\n",
    "from nltk.stem import LancasterStemmer, WordNetLemmatizer\n",
    "\n",
    "from sklearn.model_selection import train_test_split,GridSearchCV\n",
    "from sklearn.feature_extraction.text import TfidfVectorizer, CountVectorizer, HashingVectorizer\n",
    "from sklearn.pipeline import Pipeline, FeatureUnion\n",
    "from sklearn.svm import SVC\n",
    "from sklearn.ensemble import BaggingClassifier, RandomForestClassifier, AdaBoostClassifier\n",
    "from sklearn.naive_bayes import BernoulliNB\n",
    "from sklearn.metrics import classification_report, confusion_matrix\n",
    "\n",
    "\n",
    "from sklearn.base import BaseEstimator, ClassifierMixin\n",
    "\n",
    "import matplotlib.pyplot as plt\n"
   ]
  },
  {
   "cell_type": "markdown",
   "metadata": {},
   "source": [
    "### Lectura de los datos"
   ]
  },
  {
   "cell_type": "code",
   "execution_count": 2,
   "metadata": {},
   "outputs": [],
   "source": [
    "# Uso de la libreria pandas para la lectura de archivos\n",
    "data=pd.read_csv('../data/fake_news_spanish.csv', sep=';', encoding = 'utf-8')\n",
    "# Asignación a una nueva variable de los datos leidos\n",
    "data_t=data\n"
   ]
  },
  {
   "cell_type": "code",
   "execution_count": 3,
   "metadata": {},
   "outputs": [
    {
     "data": {
      "text/html": [
       "<div>\n",
       "<style scoped>\n",
       "    .dataframe tbody tr th:only-of-type {\n",
       "        vertical-align: middle;\n",
       "    }\n",
       "\n",
       "    .dataframe tbody tr th {\n",
       "        vertical-align: top;\n",
       "    }\n",
       "\n",
       "    .dataframe thead th {\n",
       "        text-align: right;\n",
       "    }\n",
       "</style>\n",
       "<table border=\"1\" class=\"dataframe\">\n",
       "  <thead>\n",
       "    <tr style=\"text-align: right;\">\n",
       "      <th></th>\n",
       "      <th>ID</th>\n",
       "      <th>Label</th>\n",
       "      <th>Titulo</th>\n",
       "      <th>Descripcion</th>\n",
       "      <th>Fecha</th>\n",
       "    </tr>\n",
       "  </thead>\n",
       "  <tbody>\n",
       "    <tr>\n",
       "      <th>0</th>\n",
       "      <td>ID</td>\n",
       "      <td>1</td>\n",
       "      <td>'The Guardian' va con Sánchez: 'Europa necesit...</td>\n",
       "      <td>El diario británico publicó este pasado jueves...</td>\n",
       "      <td>02/06/2023</td>\n",
       "    </tr>\n",
       "    <tr>\n",
       "      <th>1</th>\n",
       "      <td>ID</td>\n",
       "      <td>0</td>\n",
       "      <td>REVELAN QUE EL GOBIERNO NEGOCIO LA LIBERACIÓN ...</td>\n",
       "      <td>REVELAN QUE EL GOBIERNO NEGOCIO LA LIBERACIÓN ...</td>\n",
       "      <td>01/10/2023</td>\n",
       "    </tr>\n",
       "    <tr>\n",
       "      <th>2</th>\n",
       "      <td>ID</td>\n",
       "      <td>1</td>\n",
       "      <td>El 'Ahora o nunca' de Joan Fuster sobre el est...</td>\n",
       "      <td>El valencianismo convoca en Castelló su fiesta...</td>\n",
       "      <td>25/04/2022</td>\n",
       "    </tr>\n",
       "    <tr>\n",
       "      <th>3</th>\n",
       "      <td>ID</td>\n",
       "      <td>1</td>\n",
       "      <td>Iglesias alienta a Yolanda Díaz, ERC y EH Bild...</td>\n",
       "      <td>En política, igual que hay que negociar con lo...</td>\n",
       "      <td>03/01/2022</td>\n",
       "    </tr>\n",
       "    <tr>\n",
       "      <th>4</th>\n",
       "      <td>ID</td>\n",
       "      <td>0</td>\n",
       "      <td>Puigdemont: 'No sería ninguna tragedia una rep...</td>\n",
       "      <td>En una entrevista en El Punt Avui, el líder de...</td>\n",
       "      <td>09/03/2018</td>\n",
       "    </tr>\n",
       "    <tr>\n",
       "      <th>...</th>\n",
       "      <td>...</td>\n",
       "      <td>...</td>\n",
       "      <td>...</td>\n",
       "      <td>...</td>\n",
       "      <td>...</td>\n",
       "    </tr>\n",
       "    <tr>\n",
       "      <th>57058</th>\n",
       "      <td>ID</td>\n",
       "      <td>1</td>\n",
       "      <td>El Defensor del Pueblo reclama a la Comunidad ...</td>\n",
       "      <td>El gobierno regional han indicado que la atenc...</td>\n",
       "      <td>08/06/2021</td>\n",
       "    </tr>\n",
       "    <tr>\n",
       "      <th>57059</th>\n",
       "      <td>ID</td>\n",
       "      <td>0</td>\n",
       "      <td>El EQUO plantea ceder la presidencia de la Com...</td>\n",
       "      <td>Si la higiene democrática nos lleva a esa exig...</td>\n",
       "      <td>08/09/2020</td>\n",
       "    </tr>\n",
       "    <tr>\n",
       "      <th>57060</th>\n",
       "      <td>ID</td>\n",
       "      <td>1</td>\n",
       "      <td>Alberto Garzón: 'Que los Borbones son unos lad...</td>\n",
       "      <td>El coordinador federal de IU asegura que la mo...</td>\n",
       "      <td>12/07/2018</td>\n",
       "    </tr>\n",
       "    <tr>\n",
       "      <th>57061</th>\n",
       "      <td>ID</td>\n",
       "      <td>1</td>\n",
       "      <td>Vox exige entrar en el Gobierno de Castilla y ...</td>\n",
       "      <td>Santiago Abascal: Vox tiene el derecho y el de...</td>\n",
       "      <td>13/02/2022</td>\n",
       "    </tr>\n",
       "    <tr>\n",
       "      <th>57062</th>\n",
       "      <td>ID</td>\n",
       "      <td>1</td>\n",
       "      <td>Unas 300 personas protestan contra la visita d...</td>\n",
       "      <td>Los Mossos dEsquadra han blindado los alrededo...</td>\n",
       "      <td>09/10/2020</td>\n",
       "    </tr>\n",
       "  </tbody>\n",
       "</table>\n",
       "<p>57063 rows × 5 columns</p>\n",
       "</div>"
      ],
      "text/plain": [
       "       ID  Label                                             Titulo  \\\n",
       "0      ID      1  'The Guardian' va con Sánchez: 'Europa necesit...   \n",
       "1      ID      0  REVELAN QUE EL GOBIERNO NEGOCIO LA LIBERACIÓN ...   \n",
       "2      ID      1  El 'Ahora o nunca' de Joan Fuster sobre el est...   \n",
       "3      ID      1  Iglesias alienta a Yolanda Díaz, ERC y EH Bild...   \n",
       "4      ID      0  Puigdemont: 'No sería ninguna tragedia una rep...   \n",
       "...    ..    ...                                                ...   \n",
       "57058  ID      1  El Defensor del Pueblo reclama a la Comunidad ...   \n",
       "57059  ID      0  El EQUO plantea ceder la presidencia de la Com...   \n",
       "57060  ID      1  Alberto Garzón: 'Que los Borbones son unos lad...   \n",
       "57061  ID      1  Vox exige entrar en el Gobierno de Castilla y ...   \n",
       "57062  ID      1  Unas 300 personas protestan contra la visita d...   \n",
       "\n",
       "                                             Descripcion       Fecha  \n",
       "0      El diario británico publicó este pasado jueves...  02/06/2023  \n",
       "1      REVELAN QUE EL GOBIERNO NEGOCIO LA LIBERACIÓN ...  01/10/2023  \n",
       "2      El valencianismo convoca en Castelló su fiesta...  25/04/2022  \n",
       "3      En política, igual que hay que negociar con lo...  03/01/2022  \n",
       "4      En una entrevista en El Punt Avui, el líder de...  09/03/2018  \n",
       "...                                                  ...         ...  \n",
       "57058  El gobierno regional han indicado que la atenc...  08/06/2021  \n",
       "57059  Si la higiene democrática nos lleva a esa exig...  08/09/2020  \n",
       "57060  El coordinador federal de IU asegura que la mo...  12/07/2018  \n",
       "57061  Santiago Abascal: Vox tiene el derecho y el de...  13/02/2022  \n",
       "57062  Los Mossos dEsquadra han blindado los alrededo...  09/10/2020  \n",
       "\n",
       "[57063 rows x 5 columns]"
      ]
     },
     "execution_count": 3,
     "metadata": {},
     "output_type": "execute_result"
    }
   ],
   "source": [
    "data_t"
   ]
  },
  {
   "cell_type": "markdown",
   "metadata": {},
   "source": [
    "## Seccion 2. (20%) Entendimiento y preparación de los datos"
   ]
  },
  {
   "cell_type": "markdown",
   "metadata": {},
   "source": [
    "## Sección 3. (20%) Modelado y evaluación"
   ]
  },
  {
   "cell_type": "markdown",
   "metadata": {},
   "source": [
    "## Sección 4. (20%) Resultados."
   ]
  }
 ],
 "metadata": {
  "kernelspec": {
   "display_name": "Python 3",
   "language": "python",
   "name": "python3"
  },
  "language_info": {
   "codemirror_mode": {
    "name": "ipython",
    "version": 3
   },
   "file_extension": ".py",
   "mimetype": "text/x-python",
   "name": "python",
   "nbconvert_exporter": "python",
   "pygments_lexer": "ipython3",
   "version": "3.12.5"
  }
 },
 "nbformat": 4,
 "nbformat_minor": 2
}
